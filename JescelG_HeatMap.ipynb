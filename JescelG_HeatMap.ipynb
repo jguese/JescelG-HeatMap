{
  "nbformat": 4,
  "nbformat_minor": 0,
  "metadata": {
    "colab": {
      "name": "JescelG-HeatMap.ipynb",
      "provenance": [],
      "collapsed_sections": [],
      "authorship_tag": "ABX9TyO4M4DM1VSIgSGBbgOsqrtb",
      "include_colab_link": true
    },
    "kernelspec": {
      "name": "python3",
      "display_name": "Python 3"
    },
    "language_info": {
      "name": "python"
    }
  },
  "cells": [
    {
      "cell_type": "markdown",
      "metadata": {
        "id": "view-in-github",
        "colab_type": "text"
      },
      "source": [
        "<a href=\"https://colab.research.google.com/github/jguese/JescelG-HeatMap/blob/main/JescelG_HeatMap.ipynb\" target=\"_parent\"><img src=\"https://colab.research.google.com/assets/colab-badge.svg\" alt=\"Open In Colab\"/></a>"
      ]
    },
    {
      "cell_type": "code",
      "execution_count": null,
      "metadata": {
        "id": "GDZAt1mqX8K9"
      },
      "outputs": [],
      "source": [
        "import seaborn as sns \n",
        "import pandas as pd\n",
        "import numpy as np\n",
        "\n",
        "#create a dataframe (data table)\n",
        "df = pd.DataFrame(columns=['risk','likelihood','impact','score'])"
      ]
    },
    {
      "cell_type": "code",
      "source": [
        "df['risk']=['users','team','budget','security']"
      ],
      "metadata": {
        "id": "fN2dhQH6Z3Le"
      },
      "execution_count": null,
      "outputs": []
    },
    {
      "cell_type": "code",
      "source": [
        "df['likelihood']=[0.2,0.3,0.1,0.5]"
      ],
      "metadata": {
        "id": "dDzxoRO1aCGu"
      },
      "execution_count": null,
      "outputs": []
    },
    {
      "cell_type": "code",
      "source": [
        "df['score']=df['impact']*df['likelihood']\n",
        "df['impact']=[1,2,7,10]"
      ],
      "metadata": {
        "id": "omVHDKb1aIZE"
      },
      "execution_count": null,
      "outputs": []
    },
    {
      "cell_type": "code",
      "source": [
        "df['score']=df['impact']*df['likelihood']"
      ],
      "metadata": {
        "id": "fZIPeWHvaUMk"
      },
      "execution_count": null,
      "outputs": []
    },
    {
      "cell_type": "code",
      "source": [
        "scoresPivot=df.pivot('impact','likelihood','score')\n",
        "print(scoresPivot)\n",
        "\n",
        "labelsPivot =df.pivot('impact', 'likelihood', 'risk')\n",
        "print(labelsPivot)\n",
        "\n",
        "#replaces no labels with empty strings\n",
        "labelsPivot.fillna('',inplace=True)\n",
        "\n",
        "#simple heatmap\n",
        "p1=sns.heatmap(scoresPivot, cmap=\"flare\",annot=labelsPivot, fmt='')"
      ],
      "metadata": {
        "colab": {
          "base_uri": "https://localhost:8080/",
          "height": 487
        },
        "id": "m3eAA-msabA4",
        "outputId": "2151597b-65d2-4fc4-fd15-4c451f96ff29"
      },
      "execution_count": null,
      "outputs": [
        {
          "output_type": "stream",
          "name": "stdout",
          "text": [
            "likelihood  0.1  0.2  0.3  0.5\n",
            "impact                        \n",
            "1           NaN  0.2  NaN  NaN\n",
            "2           NaN  NaN  0.6  NaN\n",
            "7           0.7  NaN  NaN  NaN\n",
            "10          NaN  NaN  NaN  5.0\n",
            "likelihood     0.1    0.2   0.3       0.5\n",
            "impact                                   \n",
            "1              NaN  users   NaN       NaN\n",
            "2              NaN    NaN  team       NaN\n",
            "7           budget    NaN   NaN       NaN\n",
            "10             NaN    NaN   NaN  security\n"
          ]
        },
        {
          "output_type": "display_data",
          "data": {
            "image/png": "[encoded data removed]",
            "text/plain": [
              "<Figure size 432x288 with 2 Axes>"
            ]
          },
          "metadata": {
            "needs_background": "light"
          }
        }
      ]
    }
  ]
}